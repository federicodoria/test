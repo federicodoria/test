{
 "cells": [
  {
   "cell_type": "markdown",
   "metadata": {},
   "source": [
    "# My Jupiter Notebook on IBM Watson Studio"
   ]
  },
  {
   "cell_type": "markdown",
   "metadata": {},
   "source": [
    "**Federico Doria**<br/>\n",
    "I currently work in IT, but I would very much like to work in Data Journalism."
   ]
  },
  {
   "cell_type": "markdown",
   "metadata": {},
   "source": [
    "*I am interested in Data Science because there is a deluge of data in the world we live in, and it is fundamental to be able to know how to use it and gain the correct insights, and not be caught in it and be swept away.*"
   ]
  },
  {
   "cell_type": "markdown",
   "metadata": {},
   "source": [
    "### The code in the next cell will greet you differently according to the current time of day."
   ]
  },
  {
   "cell_type": "code",
   "execution_count": 1,
   "metadata": {},
   "outputs": [
    {
     "name": "stdout",
     "output_type": "stream",
     "text": [
      "Good night!\n"
     ]
    }
   ],
   "source": [
    "from datetime import datetime\n",
    "\n",
    "current_time = int(\n",
    "    datetime\n",
    "    .now()\n",
    "    .strftime(\"%H\")\n",
    "    )\n",
    "\n",
    "if (5<=current_time<12):\n",
    "    print(\"Good morning!\")\n",
    "elif (12<=current_time<17):\n",
    "    print(\"Good afternoon!\")\n",
    "elif (17<=current_time<19):\n",
    "    print(\"Good evening!\")\n",
    "else:\n",
    "    print(\"Good night!\")"
   ]
  },
  {
   "cell_type": "markdown",
   "metadata": {},
   "source": [
    "Unfortunately, because of a problem with the creation of an IBM Cloud account, I won't be able to upload it to Watson Studio. Might as well take the chance to explain the issue *and* complete the assignment.\n",
    "\n",
    "The error message says:\n",
    "\n",
    "> it is not possible to create an account in this moment\n",
    "\n",
    "<hr />\n",
    "\n",
    "So,  I followed the given instructions, and implemented suggested solutions:\n",
    "\n",
    "* changing email address\n",
    "* clearing cookies and cache\n",
    "* trying different browsers\n",
    "\n",
    "all to no avail. I contacted tech support but they haven't yet gotten back to me.\n",
    "\n",
    "To whoever reads this, I hope you're having a good day!"
   ]
  }
 ],
 "metadata": {
  "kernelspec": {
   "display_name": "Python 3.11.0 64-bit ('.venv')",
   "language": "python",
   "name": "python3"
  },
  "language_info": {
   "codemirror_mode": {
    "name": "ipython",
    "version": 3
   },
   "file_extension": ".py",
   "mimetype": "text/x-python",
   "name": "python",
   "nbconvert_exporter": "python",
   "pygments_lexer": "ipython3",
   "version": "3.11.0"
  },
  "orig_nbformat": 4,
  "vscode": {
   "interpreter": {
    "hash": "d48a2e022282a9195c6897278a245640ff2b1a94e4a3cad0d1bd79296684e908"
   }
  }
 },
 "nbformat": 4,
 "nbformat_minor": 2
}
